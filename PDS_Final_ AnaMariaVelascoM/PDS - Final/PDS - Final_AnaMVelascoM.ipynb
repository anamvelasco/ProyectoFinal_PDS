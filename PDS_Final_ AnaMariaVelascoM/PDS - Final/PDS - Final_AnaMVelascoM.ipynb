{
 "cells": [
  {
   "cell_type": "markdown",
   "id": "b4d10d8c",
   "metadata": {},
   "source": [
    " # <img align=\"left\" style=\"width: 200px;\" src=\"escudo_udea.png\\\">\n",
    "   \n",
    "   \n",
    " # Trabajo Final \n",
    " # Procesamiento Digital de Señales\n",
    " ## Ana María Velasco Montenegro\n",
    " ### CC: 1152712240\n",
    " "
   ]
  },
  {
   "cell_type": "markdown",
   "id": "68513c0e",
   "metadata": {},
   "source": [
    "# 1. Introducción"
   ]
  },
  {
   "cell_type": "markdown",
   "id": "38ef256e",
   "metadata": {},
   "source": [
    "El mundo de las aves día a día nos puede sorprender con su diversidad en cantos, los cuales han sido objeto de estudio e inspiración para las personas interesadas en el aviturismo. La información que puede brindar un audio es de suma importancia para la especie en cuestión, ya que identificarlas es una tarea engorrosa y normalmente para realizar esta tarea se necesitan expertos en el tema. \n",
    "\n",
    "El procesamiento digital de señales es una disciplina que se encarga de analizar y manipular señales utilizando técnicas matemáticas y algoritmos computacionales. Por ejemplo, los audios de las aves pueden ser considerados como señales acústicas, las cuales pueden ser procesadas para entregar valiosa información sobre su entorno, reconocer patrones de comportamiento, estudiar la comunicación entre especies y analizar la respuesta de las aves a estímulos ambientales.\n",
    "\n",
    "Por ende, si se quiere realizar un estudio más profundo como el reconocimiento automático de aves basado en algoritmos de aprendizaje automático, sería de gran ayuda porque hay una gran cantidad de datos que se entregan de cada especie y sería de gran ayuda identificar automáticamente las especies presentes en un entorno determinado.\n"
   ]
  },
  {
   "cell_type": "markdown",
   "id": "5b54ddb6",
   "metadata": {},
   "source": [
    "# 2. Análisis de audios de aves "
   ]
  },
  {
   "cell_type": "markdown",
   "id": "770866e7",
   "metadata": {},
   "source": [
    "En este caso, se analizarán audios que contienen la vocalización de dos especies de aves para determinar características que sean dominantes en ellas y de esta manera realizar una clasificación de las vocalizaciones con características especificas.\n",
    "\n",
    "La reserva natural \"El Manzanal\" es un lugar donde habitan gran variedad de especies, entre ellas las aves, las cuales son motivo de estudio, debido a que se requiere identificar el canto de algunas de estas, pero para esto, se deberán realizar una serie de procedimientos que permitan tener el audio de una forma un poco más \"limpia\" debido a que en muchas ocasiones existen ruidos externos afectan la clasificación de estas aves.\n",
    "\n",
    "En la reserva natural \"El Manzanal\" se tienen como objeto de estudio dos especies de aves, las cuales son: \n",
    "- Myadestes Ralloides \n",
    "- Piaya cayana\n",
    "\n",
    "Estas especies no son muy comunes en ese lugar, por esta razón es de interés obtener un poco más de información sobre ellas."
   ]
  },
  {
   "cell_type": "markdown",
   "id": "6936dc15",
   "metadata": {},
   "source": [
    "A continuación encontrará información sobre cada una de estas especies:"
   ]
  },
  {
   "cell_type": "markdown",
   "id": "8c9ee0f9",
   "metadata": {},
   "source": [
    "## 2.1 Piaya cayana:"
   ]
  },
  {
   "cell_type": "markdown",
   "id": "4b05fac3",
   "metadata": {},
   "source": [
    "La Piaya cayana, también conocida como batará pardo o batara café, es una especie de ave que pertenece a la familia Tityridae. Se encuentra en América Central y del Sur, desde México hasta Brasil y Bolivia.\n",
    "\n",
    "El batará pardo tiene un aspecto distintivo y llamativo. Presenta un tamaño promedio de alrededor de 23 centímetros de longitud. Su cabeza es redondeada y posee un pico grueso y curvado hacia abajo, adaptado para su dieta de insectos.\n",
    "\n",
    "Una característica notable del batará pardo es su cola larga y puntiaguda, que suele llevar levantada mientras está posado. Además, tiene una cresta eréctil en la cabeza que puede levantar o bajar según su estado de ánimo.\n",
    "\n",
    "Esta especie de ave es conocida por su comportamiento activo y su habilidad para capturar insectos en vuelo. Se mueve ágilmente entre las ramas.\n",
    "\n",
    "En cuanto a su canto, el batará pardo emite una serie de notas distintivas que consisten en un rápido y repetitivo \"tzik-tzik-tzik\". Estas vocalizaciones son utilizadas para la comunicación entre individuos y para delimitar su territorio.\n",
    "\n",
    "El rango de frecuencia del canto de esta especie oscila entre 2 y 4 kilohercios (kHz). Sin embargo, es importante tener en cuenta que estos valores son aproximados y pueden variar en cada ave y en diferentes situaciones.\n",
    "\n",
    "El batará pardo es generalmente solitario, pero también se le puede encontrar en parejas o pequeños grupos durante la temporada de reproducción. Construye nidos en forma de taza en árboles o arbustos, donde la hembra pone de dos a tres huevos que son incubados por ambos progenitores.\n"
   ]
  },
  {
   "cell_type": "markdown",
   "id": "a73599d4",
   "metadata": {},
   "source": [
    " # <img align=\"center\" style=\"width: 400px;\" src=\"Piaya_cayana.jpg\\\">"
   ]
  },
  {
   "cell_type": "markdown",
   "id": "56283201",
   "metadata": {},
   "source": [
    "## 2.2 Myadestes ralloides:"
   ]
  },
  {
   "cell_type": "markdown",
   "id": "897647de",
   "metadata": {},
   "source": [
    "El Myadestes ralloides, también conocido como solitario andino, es una especie de ave que pertenece a la familia Turdidae. Es nativo de América Central y del Norte, y se encuentra principalmente en las montañas y bosques nubosos de Colombia, Costa Rica, Panamá y algunas áreas de México.\n",
    "\n",
    "Es un ave de tamaño mediano, con una longitud promedio de alrededor de 19 centímetros. \n",
    "\n",
    "Esta especie de ave es conocida por su hermoso canto, que se caracteriza por ser claro, musical y melódico. Su canto es una parte importante de su comportamiento territorial y reproductivo. \n",
    "\n",
    "El rango de frecuencia del canto de esta especie oscila entre 2.5 y 5 kilohercios (kHz). Sin embargo, es importante tener en cuenta que estos valores son aproximados y pueden variar en cada ave y en diferentes situaciones.\n",
    "\n",
    "En cuanto a su comportamiento, es en su mayoría solitario y territorial. Pasa la mayor parte de su tiempo en las copas de los árboles, donde busca alimento y realiza sus distintivas vocalizaciones. Aunque es una especie migratoria, algunas poblaciones pueden ser residentes durante todo el año en determinadas áreas.\n",
    "\n",
    "El solitario es una especie de ave cautivadora y única, que destaca por su canto melodioso y su apariencia llamativa. Es un tesoro natural digno de admirar y proteger."
   ]
  },
  {
   "cell_type": "markdown",
   "id": "4b436479",
   "metadata": {},
   "source": [
    " # <img align=\"center\" style=\"width: 500px;\" src=\"Myadestes_ralloides.jpg\\\">"
   ]
  },
  {
   "cell_type": "markdown",
   "id": "bc6076df",
   "metadata": {},
   "source": [
    "# 3. Desarrollo de la práctica"
   ]
  },
  {
   "cell_type": "markdown",
   "id": "041e84ee",
   "metadata": {},
   "source": [
    "### 3.1 Cargue las siguientes librerias, las cuales le serán útiles para el desarrollo de la práctica"
   ]
  },
  {
   "cell_type": "code",
   "execution_count": null,
   "id": "03d30f2b",
   "metadata": {},
   "outputs": [],
   "source": [
    "# Definición general de librerías de trabajo\n",
    "from scipy.io import wavfile\n",
    "import numpy as np # libreria básica operadores matemáticos y de arreglos\n",
    "import matplotlib.pylab as plt # librería de graficación\n",
    "import math # libreria de operadores matemáticos especiales\n",
    "import scipy.signal as signal\n",
    "from pylab import *\n",
    "#%matplotlib inline # libreria de incrustación en el notebook\n",
    "from scipy.io.wavfile import read, write # libreria para lectura de archivos de audio\n",
    "from IPython.display import Audio # libreria para la reproducción de audios cargados"
   ]
  },
  {
   "cell_type": "markdown",
   "id": "337408f8",
   "metadata": {},
   "source": [
    "##  Piaya Cayana"
   ]
  },
  {
   "cell_type": "markdown",
   "id": "7cd26d70",
   "metadata": {},
   "source": [
    "### 3.2 Cargue el audio \"PiayaCayana_Audio.wav\", normalicelo, imprima la frecuencia de muestreo de este audio y grafique la señal. ¿Por qué es importante normalizar un audio? ¿Para que sirve la frecuencia de muestreo? ¿En qué consiste el Teorema de Nyquist?"
   ]
  },
  {
   "cell_type": "code",
   "execution_count": null,
   "id": "47263f17",
   "metadata": {},
   "outputs": [],
   "source": [
    "file_audio=('PiayaCayana_Audio.wav') # Ruta del archivo con la senal\n",
    "fs, x=read(file_audio) # Cargar el archivo\n",
    "print(\"La frecuencia de muestreo de la señal es: \",fs)\n",
    "x=x/float(max(abs(x)))# Normaliza la amplitud de la señal\n",
    "x=x-np.mean(x)\n",
    "t=np.arange(0, len(x)/fs, 1.0/fs) # Vector de tiempo\n",
    "plt.figure(figsize = (15,9))\n",
    "plt.plot(t,x)\n",
    "plt.title(\"Audio Piaya Cayana\", fontsize=\"20\")\n",
    "plt.xlabel(\"Tiempo (s)\", fontsize=\"14\")\n",
    "plt.ylabel(\"Amplitud\", fontsize=\"14\")\n",
    "plt.grid()\n",
    "plt.show() # Mostrar la grafica\n"
   ]
  },
  {
   "cell_type": "markdown",
   "id": "7e99b00a",
   "metadata": {},
   "source": [
    "####  ¿Por qué es importante normalizar un audio?"
   ]
  },
  {
   "cell_type": "markdown",
   "id": "d0fee63f",
   "metadata": {},
   "source": [
    "Debido a que se debe ajustar el nivel de amplitud de un audio para que se encuentre dentro de un rango específico y consistente.\n",
    "- La normalización permite que varios archivos de audio tengan un nivel de volumen similar.\n",
    "- Si un audio tiene un nivel de amplitud muy alto, puede resultar en saturación o distorsión en la señal. Al normalizar, se asegura de que el audio no supere los límites técnicos establecidos, evitando así problemas de calidad y garantizando que la señal esté dentro de los márgenes adecuados.\n",
    "- La normalización puede mejorar la experiencia auditiva del usuario final. Al ajustar el nivel de amplitud, se pueden resaltar detalles de baja intensidad y hacer que el audio sea más claro y audiblemente agradable."
   ]
  },
  {
   "cell_type": "markdown",
   "id": "e1b2d9f8",
   "metadata": {},
   "source": [
    "#### ¿Para que sirve la frecuencia de muestreo?"
   ]
  },
  {
   "cell_type": "markdown",
   "id": "e9563cd7",
   "metadata": {},
   "source": [
    "Se refiere al número de muestras o mediciones tomadas por segundo para representar una señal analógica en forma digital. La frecuencia de muestreo se expresa en hertz (Hz). "
   ]
  },
  {
   "cell_type": "markdown",
   "id": "fe699234",
   "metadata": {},
   "source": [
    "#### ¿En qué consiste el Teorema de Nyquist?"
   ]
  },
  {
   "cell_type": "markdown",
   "id": "a224c927",
   "metadata": {},
   "source": [
    "Es utilizado para representar correctamente una señal analógica en forma digital, la frecuencia de muestreo debe ser al menos el doble de la frecuencia más alta presente en la señal. Esto garantiza que no se produzca el efecto conocido como aliasing, donde frecuencias más altas se \"mezclan\" con frecuencias más bajas y generan distorsiones."
   ]
  },
  {
   "cell_type": "markdown",
   "id": "8a2d7f67",
   "metadata": {},
   "source": [
    "### 3.3 Escuche la señal de audio. ¿Qué sonidos puede percibir?"
   ]
  },
  {
   "cell_type": "code",
   "execution_count": null,
   "id": "218f04f4",
   "metadata": {},
   "outputs": [],
   "source": [
    "file_audio=('PiayaCayana_Audio.wav') # Ruta del archivo con la senal\n",
    "fs, x=read(file_audio) # Cargar el archivo\n",
    "Audio(x, rate=fs) # Reproductor señal de audio original"
   ]
  },
  {
   "cell_type": "markdown",
   "id": "331483d8",
   "metadata": {},
   "source": [
    "#### Respuesta:\n",
    "\n",
    "En el audio de PiayaCayana se logra percibir una cascada o agua, un ambiente muy natural.\n",
    "Tambien al fondo se logra escuchar sonidos que hacen las aves que habitan este lugar, algunos un poco agudos."
   ]
  },
  {
   "cell_type": "markdown",
   "id": "90ca2c72",
   "metadata": {},
   "source": [
    "### 3.4 Use la función mostrada a continuación para extraer un fragmento del audio. Escuche y grafique el fragmento de la señal.  ¿Escucha el canto del ave?"
   ]
  },
  {
   "cell_type": "code",
   "execution_count": null,
   "id": "2f6eb0f7",
   "metadata": {},
   "outputs": [],
   "source": [
    "def fragmento(audio,ti,tf,fs): \n",
    "    mi=int(ti*fs) #Muestra de inicio\n",
    "    mf=int(tf*fs) #Muestra final\n",
    "    arreglo=audio[mi:mf] #Arreglo\n",
    "    Audio(arreglo, rate=fs) # Reproductor señal de audio original\n",
    "    return arreglo\n",
    "arreglo=fragmento(x,38.5,40.5,fs)"
   ]
  },
  {
   "cell_type": "code",
   "execution_count": null,
   "id": "899a0c1e",
   "metadata": {},
   "outputs": [],
   "source": [
    "print(\"La frecuencia de muestreo de la señal es: \",fs)\n",
    "arreglo = arreglo / float(max(abs(arreglo)))\n",
    "arreglo = arreglo - np.mean(arreglo)\n",
    "t = np.arange(0, len(arreglo) / fs, 1.0 / fs)  # Vector de tiempo\n",
    "plt.figure(figsize=(15, 9))\n",
    "plt.plot(t, arreglo, color='yellow')\n",
    "plt.title(\"Fragmento Audio Piaya Cayana\", fontsize=\"20\")\n",
    "plt.xlabel(\"Tiempo (s)\", fontsize=\"14\")\n",
    "plt.ylabel(\"Amplitud\", fontsize=\"14\")\n",
    "plt.grid()\n",
    "plt.show()"
   ]
  },
  {
   "cell_type": "code",
   "execution_count": null,
   "id": "594cd0a1",
   "metadata": {},
   "outputs": [],
   "source": [
    "Audio(arreglo, rate=fs)"
   ]
  },
  {
   "cell_type": "markdown",
   "id": "5f24e62b",
   "metadata": {},
   "source": [
    "### Respuesta\n",
    "\n",
    "En el fragmento del audio original, y que se acaba de graficar, se logra escuchar la vocalización que hace el ave que habita en ese ambiente, tambien es muy notoria la presencia del agua."
   ]
  },
  {
   "cell_type": "markdown",
   "id": "4c631024",
   "metadata": {},
   "source": [
    "### 3.5 Genere un nuevo archivo de audio con la misma señal pero al doble y luego con la mitad de la frecuencia de muestreo original. Escuche el audio, ¿Qué diferencia nota? ¿A que se debe esto? "
   ]
  },
  {
   "cell_type": "code",
   "execution_count": null,
   "id": "686f613d",
   "metadata": {},
   "outputs": [],
   "source": [
    "nueva_2s=round(0.5*fs) # Mitad de la frecuencia\n",
    "write ('0Mitad.wav', nueva_2s, arreglo) #Generar archivo\n",
    "newfs2, xms=read('0Mitad.wav') # Cargar el archivo\n",
    "xms=xms/float(max(abs(xms))) # escala la amplitud de la senal\n",
    "t=np.arange(0, float(len(xms))/(round(0.5*fs)), 1.0/(round(0.5*fs))) # Vector de tiempo\n",
    "plt.plot(t,xms, color='green') # Dibujar la grafica\n",
    "# Los siguientes dos comandos dibujan las etiquetas de los ejes\n",
    "plt.title('Señal Audio Mitad Frecuencia',fontsize=18) #Titulo\n",
    "plt.xlabel('Time',fontsize=18) # Etiqueta eje X\n",
    "plt.ylabel('Amplitude',fontsize=18) # Etiqueta eje Y\n",
    "plt.show() # Mostrar la grafica\n",
    "Audio(xms, rate=newfs2) # para escuchar la senal con la nueva frecuencia"
   ]
  },
  {
   "cell_type": "markdown",
   "id": "6cf21db2",
   "metadata": {},
   "source": [
    "### Respuesta. Mitad de la frecuencia.\n",
    "\n",
    "El audio duplicó su duracion, es decir, antes duraba dos segundos, ahora con la mitad de la frecuencia de muestreo, dura cuatro segundos, es de esperarse ese comportamiento porque la frecuencia es el inverso del periodo (tiempo) y si disminuyo a la mitad la frecuencia pues el periodo debe aumentar el doble. Por ende, la velocidad del audio disminuye porque se reduce la cantidad de muestras, ya que menos muestras de la señal analógica se recogen por segundo.\n"
   ]
  },
  {
   "cell_type": "code",
   "execution_count": null,
   "id": "076e00e4",
   "metadata": {},
   "outputs": [],
   "source": [
    "nueva_s=2*fs # Doble de la frecuencia\n",
    "write ('0Doble.wav', nueva_s, arreglo) #Generar archivo\n",
    "newfs, x2s=read('0Doble.wav') # Cargar el archivo\n",
    "x2s=x2s/float(max(abs(x2s))) # escala la amplitud de la senal\n",
    "t=np.arange(0, float(len(x2s))/(2*fs), 1.0/(2*fs)) # Vector de tiempo\n",
    "plt.plot(t,x2s, color='red') # Dibujar la grafica\n",
    "# Los siguientes dos comandos dibujan las etiquetas de los ejes\n",
    "plt.title('Señal Audio Doble Frecuencia',fontsize=18) #Titulo\n",
    "plt.xlabel('Time',fontsize=18) # Etiqueta eje X\n",
    "plt.ylabel('Amplitude',fontsize=18) # Etiqueta eje Y\n",
    "plt.show() # Mostrar la grafica\n",
    "Audio(x2s, rate=newfs) # para escuchar la senal con la nueva frecuencia"
   ]
  },
  {
   "cell_type": "markdown",
   "id": "9498cae5",
   "metadata": {},
   "source": [
    "### Respuesta. Doble de la frecuencia.\n",
    "\n",
    "La velocidad del audio es más rápida además se acorta a la mitad su duración, es decir, el original duraba dos segundos, este como se divide a la mitad, entonces, dura 1 segundo. Esto sucede por la relacion entre la frecuencia y el periodo, recordemos que es una relacion inversa."
   ]
  },
  {
   "cell_type": "markdown",
   "id": "aef5ea87",
   "metadata": {},
   "source": [
    "### 3.6 Diseñe un filtro de media móvil con 3 diferentes valores de L , calcule la respuesta de la señal arreglo ante dicho filtro y grafique la señal resultante usando subplots ¿Con cual considera que se visualiza y se podría analizar mejor la información?"
   ]
  },
  {
   "cell_type": "code",
   "execution_count": null,
   "id": "7afa1a4f",
   "metadata": {},
   "outputs": [],
   "source": [
    "import numpy as np\n",
    "import matplotlib.pyplot as plt\n",
    "\n",
    "def fragmento(audio, ti, tf, fs):\n",
    "    mi = int(ti * fs)  # Muestra de inicio\n",
    "    mf = int(tf * fs)  # Muestra final\n",
    "    arreglo = audio[mi:mf]  # Arreglo\n",
    "    return arreglo\n",
    "\n",
    "# Llamada a la función fragmento\n",
    "arreglo = fragmento(x, 38.5, 40.5, fs)\n",
    "\n",
    "print(\"La frecuencia de muestreo de la señal es: \", fs)\n",
    "\n",
    "# Normaliza la amplitud del fragmento\n",
    "arreglo = arreglo / float(max(abs(arreglo)))\n",
    "arreglo = arreglo - np.mean(arreglo)\n",
    "t = np.arange(0, len(arreglo) / fs, 1.0 / fs)  # Vector de tiempo\n",
    "\n",
    "plt.figure(figsize=(15, 9))\n",
    "plt.plot(t, arreglo, color='yellow')\n",
    "plt.title(\"Fragmento Audio Piaya Cayana\", fontsize=\"20\")\n",
    "plt.xlabel(\"Tiempo (s)\", fontsize=\"14\")\n",
    "plt.ylabel(\"Amplitud\", fontsize=\"14\")\n",
    "plt.grid()\n",
    "plt.show()\n",
    "\n",
    "plt.figure(figsize=(15, 10))\n",
    "\n",
    "# Filtro de media móvil con diferentes valores de L\n",
    "L_values = [5, 220, 600]\n",
    "\n",
    "for i, L in enumerate(L_values, 1):\n",
    "    coef = np.ones(L) / float(L)\n",
    "    filtered_signal = np.convolve(arreglo, coef, mode='same')\n",
    "    plt.subplot(2, 2, i)\n",
    "    plt.plot(t, filtered_signal)\n",
    "    plt.grid()\n",
    "    plt.ylabel('Amplitud', fontsize=14)\n",
    "    plt.xlabel('Tiempo (s)', fontsize=14)\n",
    "    plt.title('Filtro de media móvil L={}'.format(L), fontsize=14)\n",
    "\n",
    "plt.tight_layout()\n",
    "plt.show()\n"
   ]
  },
  {
   "cell_type": "markdown",
   "id": "4e994dc8",
   "metadata": {},
   "source": [
    "### Respuesta\n",
    "El filtro de media movil realiza un promedio entre el valor de las muestras y el total de muestras, esto permite que se  suavice la señal. Con el L = 600, se puede observar que la señal esta un poco mas limpia, mas clara y tal vez a la hora de analizar la señal en el dominio del tiempo se pueda obtener un analisis mas exacto. \n",
    "Al aumentar el numero de L se puede tener una señal mas suavizada, pero esto puede llevar a un costo computacional mas alto y a tener perdida de información."
   ]
  },
  {
   "cell_type": "markdown",
   "id": "89a07455",
   "metadata": {},
   "source": [
    "### 3.7 Calcular la transformada rápida de Fourier y graficarla ¿Qué información nos brida esto?"
   ]
  },
  {
   "cell_type": "code",
   "execution_count": null,
   "id": "c54ea7f5",
   "metadata": {},
   "outputs": [],
   "source": [
    "fft_arreglo = np.fft.fft(arreglo)\n",
    "frecuencia = np.fft.fftfreq(len(arreglo), 1.0 / fs)\n",
    "\n",
    "plt.figure(figsize=(15, 10))\n",
    "plt.plot(frecuencia, np.abs(fft_arreglo),color='black' )\n",
    "plt.title(\"Transformada Rápida de Fourier\", fontsize=\"20\")\n",
    "plt.xlabel(\"Frecuencia (Hz)\", fontsize=\"14\")\n",
    "plt.ylabel(\"Amplitud\", fontsize=\"14\")\n",
    "plt.grid()\n",
    "plt.show()"
   ]
  },
  {
   "cell_type": "markdown",
   "id": "372de6ec",
   "metadata": {},
   "source": [
    "### Respuesta\n",
    "Muestra la amplitud de las diferentes componentes de frecuencia presentes en la señal, cada pico en la gráfica de la Transformada de Fourier puede indicar el ancho de banda de las componentes de frecuencia, las componentes de frecuencia con amplitudes muy pequeñas o cercanas a cero pueden considerarse ruido o componentes que no me aportan ninguna informacion de interes de la señal."
   ]
  },
  {
   "cell_type": "markdown",
   "id": "013ae852",
   "metadata": {},
   "source": [
    "### 3.8 Realice la Transformada Inversa de Fourier para recuperar la señal a través de su transformada. ¿Que resultado obtuvo?"
   ]
  },
  {
   "cell_type": "code",
   "execution_count": null,
   "id": "ed53c66b",
   "metadata": {},
   "outputs": [],
   "source": [
    "ifft_arreglo = np.fft.ifft(fft_arreglo)\n",
    "\n",
    "plt.figure(figsize=(15, 9))\n",
    "plt.plot(t, ifft_arreglo.real, color='blue')\n",
    "plt.title(\"Transformada Inversa de Fourier\", fontsize=\"20\")\n",
    "plt.xlabel(\"Tiempo (s)\", fontsize=\"14\")\n",
    "plt.ylabel(\"Amplitud\", fontsize=\"14\")\n",
    "plt.grid()\n",
    "plt.show()"
   ]
  },
  {
   "cell_type": "markdown",
   "id": "98256e2d",
   "metadata": {},
   "source": [
    "### Respuesta\n",
    "Se logro recuperar la señal en el tiempo, con la ayuda de las componentes frecuenciales que se calcularon en la Transormada de Fourier, ademas, esto es lo que tambien nos permite el analisis en frecuencia, llegar a recuperar de una manera muy aceptable la señal en el dominio del tiempo."
   ]
  },
  {
   "cell_type": "markdown",
   "id": "9b05fdea",
   "metadata": {},
   "source": [
    "### 3.9 Realice el  enventanado a la señal original para luego aplicarle la STFT. Use la función mostrada a continuación y segmente su señal con un tamaño de ventana de 80ms."
   ]
  },
  {
   "cell_type": "code",
   "execution_count": null,
   "id": "94331398",
   "metadata": {},
   "outputs": [],
   "source": [
    "def extraer_ventanas(signal, size, fs):\n",
    "    #Tamano de paso\n",
    "    step=int(0.010*fs)\n",
    "    n_seg = int((len(signal) - size) / step)\n",
    "    # extraer segmentos\n",
    "    windows = [signal[i * step : i * step + size]\n",
    "               for i in range(n_seg)]\n",
    "    # stack (cada fila es una ventana)\n",
    "    return np.vstack(windows)\n",
    "\n",
    "ventanas= extraer_ventanas(x,int(0.080*fs),fs)\n",
    "ventanas.shape"
   ]
  },
  {
   "cell_type": "markdown",
   "id": "b157535c",
   "metadata": {},
   "source": [
    "### 3.10 Aplicar la ventana hamming a la señal original y graficar un segmento antes y después de aplicarle la ventana Hamming. ¿Observa alguna diferencia? Explique."
   ]
  },
  {
   "cell_type": "code",
   "execution_count": null,
   "id": "9078a9e6",
   "metadata": {},
   "outputs": [],
   "source": [
    "hamming = ventanas*np.hamming(len(ventanas[0]))\n",
    "segmento = np.random.randint(0, len(ventanas))\n",
    "plt.subplot(211)\n",
    "plt.plot(ventanas[segmento])\n",
    "plt.grid()\n",
    "plt.xlabel('Milisegundos')\n",
    "plt.ylabel('Amplitud')\n",
    "plt.title('Ventana sin aplicar Hamming')\n",
    "\n",
    "plt.subplot(212)\n",
    "plt.plot(hamming[segmento])\n",
    "plt.grid()\n",
    "plt.xlabel('Milisegundos')\n",
    "plt.ylabel('Amplitud')\n",
    "plt.title('Ventana al aplicarle Hamming')\n",
    "\n",
    "plt.subplots_adjust(top=0.9, bottom=0.08, left=0.10, right=2, hspace=0.35 ,wspace=0.35)\n",
    "plt.show()\n",
    "print(\"Segmento enventanado:\",segmento)"
   ]
  },
  {
   "cell_type": "markdown",
   "id": "b9e4b470",
   "metadata": {},
   "source": [
    "### Respuesta\n",
    "Se observa que los bordes de la ventana sin aplicar Hamming se encuentran sin atenuar, mientras que cuando se aplica Hamming se atenuan las fronteras. En cuanto a la parte central, al aplicarle Hamming se multiplica por uno, entonces deja pasar la señal de la misma forma."
   ]
  },
  {
   "cell_type": "markdown",
   "id": "44172147",
   "metadata": {},
   "source": [
    "### 3.11 Usando la siguiente función calcule la STFT a cada uno de los segmentos del ítem anterior, para esto use un tamaño de NFFT de 512."
   ]
  },
  {
   "cell_type": "code",
   "execution_count": null,
   "id": "d3a2939f",
   "metadata": {},
   "outputs": [],
   "source": [
    "def potspec(X, size, n_padded_min=0):\n",
    "    # Zero padding para la proxima potencia de 2\n",
    "    if n_padded_min==0:\n",
    "        n_padded = max(n_padded_min, int(2 ** np.ceil(np.log(size) / np.log(2))))\n",
    "    else:\n",
    "        n_padded = n_padded_min\n",
    "        # Transformada de Fourier\n",
    "        Y = np.fft.fft(X, n=n_padded)\n",
    "        Y = np.absolute(Y)\n",
    "        # non-redundant part\n",
    "        m = int(n_padded / 2) + 1\n",
    "        Y = Y[:, :m]\n",
    "        return np.abs(Y) ** 2, n_padded"
   ]
  },
  {
   "cell_type": "markdown",
   "id": "85144dc7",
   "metadata": {},
   "source": [
    "### 3.12  Grafique la representación tiempo-frecuencia. Puede ayudarse de las siguientes líneas de código."
   ]
  },
  {
   "cell_type": "code",
   "execution_count": null,
   "id": "ae6b0405",
   "metadata": {},
   "outputs": [],
   "source": [
    "espectro,nfft=potspec(hamming,int(0.08*fs),512)\n",
    "espectro=np.flipud(10*np.log10(espectro).T)\n",
    "plt.figure(figsize=(20,10))\n",
    "plt.title('Espectrograma')\n",
    "plt.imshow(espectro,aspect='auto', extent=[0, len(x)/fs, 0, fs//2])\n",
    "plt.ylabel('Frecuencia [Hz]', fontsize=18)\n",
    "plt.xlabel('Tiempo [sec]', fontsize=18)\n",
    "plt.show()"
   ]
  },
  {
   "cell_type": "markdown",
   "id": "d8f71fee",
   "metadata": {},
   "source": [
    "### 3.13 Realice el  enventanado al fragmento de la señal para luego aplicarle la STFT. Use la función mostrada a continuación y segmente su señal con un tamaño de ventana de 80ms."
   ]
  },
  {
   "cell_type": "code",
   "execution_count": null,
   "id": "d2333a7c",
   "metadata": {},
   "outputs": [],
   "source": [
    "def extraer_ventanas(signal, size, fs):\n",
    "    #Tamano de paso\n",
    "    step=int(0.010*fs)\n",
    "    n_seg = int((len(signal) - size) / step)\n",
    "    # extraer segmentos\n",
    "    windows = [signal[i * step : i * step + size]\n",
    "               for i in range(n_seg)]\n",
    "    # stack (cada fila es una ventana)\n",
    "    return np.vstack(windows)\n",
    "\n",
    "ventanas2= extraer_ventanas(arreglo,int(0.080*fs),fs)\n",
    "ventanas2.shape"
   ]
  },
  {
   "cell_type": "markdown",
   "id": "6e0db2a2",
   "metadata": {},
   "source": [
    "### 3.14 Aplicar la ventana hamming al fragmento de señal y graficar un segmento antes y después de aplicarle la ventana Hamming. ¿Observa alguna diferencia? Explique."
   ]
  },
  {
   "cell_type": "code",
   "execution_count": null,
   "id": "7e4bac3c",
   "metadata": {},
   "outputs": [],
   "source": [
    "hamming = ventanas2*np.hamming(len(ventanas2[0]))\n",
    "segmento2 = np.random.randint(0, len(ventanas2))\n",
    "plt.subplot(211)\n",
    "plt.plot(ventanas2[segmento2])\n",
    "plt.grid()\n",
    "plt.xlabel('Milisegundos')\n",
    "plt.ylabel('Amplitud')\n",
    "plt.title('Ventana sin aplicar Hamming')\n",
    "\n",
    "plt.subplot(212)\n",
    "plt.plot(hamming[segmento2])\n",
    "plt.grid()\n",
    "plt.xlabel('Milisegundos')\n",
    "plt.ylabel('Amplitud')\n",
    "plt.title('Ventana al aplicarle Hamming')\n",
    "\n",
    "plt.subplots_adjust(top=0.9, bottom=0.08, left=0.10, right=2, hspace=0.35 ,wspace=0.35)\n",
    "plt.show()\n",
    "print(\"Segmento enventanado:\",segmento2)"
   ]
  },
  {
   "cell_type": "markdown",
   "id": "7ffb03ad",
   "metadata": {},
   "source": [
    "### Respuesta\n",
    "Al igual que en la señal original se observa que los bordes de la ventana sin aplicar Hamming se encuentran sin atenuar, mientras que cuando se aplica Hamming se atenuan las fronteras. En cuanto a la parte central, al aplicarle Hamming se multiplica por uno, entonces deja pasar la señal de la misma forma."
   ]
  },
  {
   "cell_type": "markdown",
   "id": "9342a548",
   "metadata": {},
   "source": [
    "### 3.15 Calcule y grafique la STFT para valores de NFFT equivalentes a 64, 512 y 1024. ¿Qué diferencia encuentra al variar este tamaño? ¿A su criterio cuál es el tamaño de NFFT que tiene una mejor resolución tiempofrecuencia? Explique."
   ]
  },
  {
   "cell_type": "code",
   "execution_count": null,
   "id": "f1789f35",
   "metadata": {},
   "outputs": [],
   "source": [
    "nfft = [64, 512, 1024]\n",
    "\n",
    "for i in nfft:\n",
    "    espectro,nfft=potspec(hamming,int(0.08*fs),i)\n",
    "    espectro=np.flipud(10*np.log10(espectro).T)\n",
    "    plt.figure(figsize=(20,10))\n",
    "    plt.title('Espectrograma con NFFT ='+str(i), fontsize=20)\n",
    "    plt.imshow(espectro,aspect='auto', extent=[0, len(hamming)/fs, 0, fs//2])\n",
    "    plt.ylabel('Frequency [Hz]', fontsize=18)\n",
    "    plt.xlabel('Time [sec]', fontsize=18)\n",
    "    plt.show()"
   ]
  },
  {
   "cell_type": "markdown",
   "id": "c08d7ef3",
   "metadata": {},
   "source": [
    "### Respuesta\n",
    "A medida que se aumenta el NFFT, se pueden notar unas franjas en la frecuencia, además que se ven más definidos los trazos de amplitud, mientras que, al tener un NFFT relativamente bajo, estas franjas desaparecen, pero se diferencia más el intervalo temporal en que las frecuencias son mayores. Entre mayor número de NFFT la amplitud va a ser menor. \n",
    "Se puede observar que entre NFFT =64 y NFFT=1024 hay una gran diferencia, cabe resaltar que para que se puedan observar cambios significativos no solo se tiene que aumentar el número de NFFT, sino que también se debe aumentar la frecuencia de muestreo.\n",
    "\n",
    "Considero que el tamaño de NFFT que tiene una mejor resolución tiempofrecuencia es la de NFFT=1024 debido a que los datos tienen una mejor amplitud."
   ]
  },
  {
   "cell_type": "markdown",
   "id": "8e968421",
   "metadata": {},
   "source": [
    "### 3.16 Implemente un filtro FIR con las siguientes características:\n",
    "FIR Pasa-banda, fc1=2kHz, fc2=7.5kHz, BW=200Hz, AdB=0"
   ]
  },
  {
   "cell_type": "code",
   "execution_count": null,
   "id": "c712f34e",
   "metadata": {},
   "outputs": [],
   "source": [
    "fc1=2000.0\n",
    "fc2=7500.0\n",
    "fs # frec de muestreo\n",
    "Adb=0 # Ganancia del filtro en decibeles\n",
    "N = 512 # Numero de puntos de la FFT\n",
    "BW=200 # Ancho de banda en la banda de transicion\n",
    "\n",
    "wc1 = 2*np.pi*fc1/fs # frecuencia de corte normalizada en radianes\n",
    "wc2 = 2*np.pi*fc2/fs # frecuencia de corte normalizada en radianes\n",
    "bwn=2*np.pi*BW/fs # ancho de banda  normalizado en radianes\n",
    "\n",
    "M=int(4/bwn) # orden estimado del filtro\n",
    "print('Orden del filtro: ', M)\n",
    "\n",
    "n = np.arange(-M,M)"
   ]
  },
  {
   "cell_type": "code",
   "execution_count": null,
   "id": "517b83d6",
   "metadata": {},
   "outputs": [],
   "source": [
    "# Respuesta ideal del filtro\n",
    "\n",
    "h1 =(wc2/np.pi)* np.sinc(wc2*(n)/np.pi)-(wc1/np.pi) * np.sinc(wc1*(n)/np.pi)\n",
    "h1[n==0]=(wc2-wc1)/np.pi # cuando es pasabanda. Filtro original sin enventanar\n",
    "\n",
    "win = signal.hamming(len(n)) # funcion ventana para eliminar el fenomeno de Gibbs\n",
    "h2 = h1 * win # Multiplico la respuesta ideal por la ventana Filtro enventanado. Respuedta al impulso del filtro enventanado\n",
    "\n",
    "w1,Hh1 = signal.freqz(h1,1,whole=True, worN=N) #Transformada Z\n",
    "\n",
    "A=np.sqrt(10**(0.1*Adb))\n",
    "h2=h2*A # Ganancia del filtro\n",
    "w2,Hh2 = signal.freqz(h2,1,whole=True, worN=N)"
   ]
  },
  {
   "cell_type": "markdown",
   "id": "45a59f0c",
   "metadata": {},
   "source": [
    "### 3.17 Grafique la respuesta al impulso del filtro asignado. ¿Qué puede observar?"
   ]
  },
  {
   "cell_type": "code",
   "execution_count": null,
   "id": "db5e2fc7",
   "metadata": {},
   "outputs": [],
   "source": [
    "fig1,axs1 = subplots(4,1)\n",
    "fig1.set_size_inches((12,18))\n",
    "subplots_adjust(hspace=0.8)\n",
    "\n",
    "ax=axs1[0]\n",
    "ax.stem(n+M,h1,basefmt='b-')\n",
    "ax.set_title(\"Respuesta al impulso del FIR\",fontsize=20)\n",
    "ax.set_xlabel(\"$n$\",fontsize=24)\n",
    "ax.set_ylabel(\"$h_1$\",fontsize=24)\n",
    "\n",
    "ax=axs1[1]\n",
    "ax.stem(n+M,h2,basefmt='b-')\n",
    "ax.set_title(\"Respuesta al impulso del FIR truncado\",fontsize=20)\n",
    "ax.set_xlabel(\"$n$\",fontsize=24)\n",
    "ax.set_ylabel(\"$h_2$\",fontsize=24)\n",
    "\n",
    "ax=axs1[2]\n",
    "ax.plot((w1-np.pi)*fs/(2*np.pi),np.abs(np.fft.fftshift(Hh1)))\n",
    "ax.axis(xmax=fs/2,xmin=-fs/2)\n",
    "ax.set_title(\"Respuesta en frecuencia FIR truncado\",fontsize=20)\n",
    "ax.set_xlabel(r\"$f (Hz)$\",fontsize=18)\n",
    "ax.set_ylabel(r\"$|H1(\\omega)| $\",fontsize=18)\n",
    "ax.vlines([-fc1,fc1],0,1,color='g',lw=2.,linestyle='--')\n",
    "ax.vlines([-fc2,fc2],0,1,color='g',lw=2.,linestyle='--')\n",
    "ax.hlines(1,-fc2,-fc1,color='g',lw=2.,linestyle='--')\n",
    "ax.hlines(0,-fc1,fc1,color='g',lw=2.,linestyle='--')\n",
    "ax.hlines(1,fc1,fc2,color='g',lw=2.,linestyle='--')\n",
    "\n",
    "ax=axs1[3]\n",
    "ax.plot((w2-np.pi)*fs/(2*np.pi),np.abs(np.fft.fftshift(Hh2)))\n",
    "ax.axis(xmax=fs/2,xmin=-fs/2)\n",
    "ax.set_title(\"Respuesta en frecuencia FIR enventanado\",fontsize=20)\n",
    "ax.set_xlabel(r\"$f (Hz)$\",fontsize=18)\n",
    "ax.set_ylabel(r\"$|H2(\\omega)| $\",fontsize=18)\n",
    "ax.vlines([-fc1,fc1],0,1,color='g',lw=2.,linestyle='--')\n",
    "ax.vlines([-fc2,fc2],0,1,color='g',lw=2.,linestyle='--')\n",
    "ax.hlines(1,-fc2,-fc1,color='g',lw=2.,linestyle='--')\n",
    "ax.hlines(0,-fc1,fc1,color='g',lw=2.,linestyle='--')\n",
    "ax.hlines(1,fc1,fc2,color='g',lw=2.,linestyle='--')"
   ]
  },
  {
   "cell_type": "markdown",
   "id": "2eade95f",
   "metadata": {},
   "source": [
    "### Respuesta\n",
    "\n",
    "Cuando el filtro esta sin truncar se espera que en el tiempo la respuesta sea una señal sin sobre su argumento, esto se puede observar en la primera grafica, además en los extremos hay oscilaciones.\n",
    "\n",
    "Cuando el filtro esta truncando en el tiempo, es porque se multiplico por la ventana,en este caso Hamming, por lo tanto, se atenuaron los extremos y la informacion relevante quedo en la mitad de la grafica.\n",
    "\n",
    "Para la respuesta en frecuencia del filtro sin truncar, se observa que quedan oscilaciones en la grafica, esto se debe a que no se pueden representar esas caidas en linea recta tan fielmente, sin embargo el ancho de banda de transcion es mejor.\n",
    "\n",
    "Para la respuesta en frecuencia del filtro truncado, se observa que las oscilaciones se eliminaron pero el ancho de banda de transicion quedo un poco permisivo, esto son caracteristicas que el diseñador de filtros debe tener en cuenta al realizar un analisis para un diseño de un filtro en especifico."
   ]
  },
  {
   "cell_type": "markdown",
   "id": "88df85d1",
   "metadata": {},
   "source": [
    "### 3.18 Pase la señal de audio por el filtro diseñado, y escúchela. ¿Encuentra alguna diferencia respecto al audio no filtrado?"
   ]
  },
  {
   "cell_type": "code",
   "execution_count": null,
   "id": "4ca409d1",
   "metadata": {},
   "outputs": [],
   "source": [
    "y = signal.lfilter(h2, 1, arreglo) #convolucinar h2 con cualquier señal, en este caso con arreglo que debe tener la misma frec de frecuencia\n",
    "Audio(y, rate=fs)"
   ]
  },
  {
   "cell_type": "markdown",
   "id": "ef62a374",
   "metadata": {},
   "source": [
    "### Respuesta\n",
    "\n",
    "El audio perdio volumen, al ser filtrado, sin embargo se logra percibir mejor el canto del ave, que era lo que nos interesaba, ademas se atenuo tambien caudal que se escuchaba y permitió que las frecuencias del canto del ave quedaran mas perceptibles."
   ]
  },
  {
   "cell_type": "markdown",
   "id": "58967ff5",
   "metadata": {},
   "source": [
    "##  Myadestes Ralloides "
   ]
  },
  {
   "cell_type": "markdown",
   "id": "5280a478",
   "metadata": {},
   "source": [
    "### 3.19 Cargue el audio \"Myadestes_Ralloides.wav\", normalicelo, imprima la frecuencia de muestreo de este audio y grafique la señal. ¿Es diferente el canto respecto al Piaya Cayana?"
   ]
  },
  {
   "cell_type": "code",
   "execution_count": null,
   "id": "cb2721d5",
   "metadata": {},
   "outputs": [],
   "source": [
    "file_audioM=('Myadestes_Ralloides.wav') # Ruta del archivo con la senal\n",
    "fsM, xM=read(file_audioM) # Cargar el archivo\n",
    "print(\"La frecuencia de muestreo de la señal es: \",fsM)\n",
    "xM=xM/float(max(abs(xM)))# Normaliza la amplitud de la señal\n",
    "xM=xM-np.mean(xM)\n",
    "tM=np.arange(0, len(xM)/fsM, 1.0/fsM) # Vector de tiempo\n",
    "plt.figure(figsize = (15,9))\n",
    "plt.plot(tM,xM)\n",
    "plt.title(\"Audio Myadestes Ralloides\", fontsize=\"20\")\n",
    "plt.xlabel(\"Tiempo (s)\", fontsize=\"14\")\n",
    "plt.ylabel(\"Amplitud\", fontsize=\"14\")\n",
    "plt.grid()\n",
    "plt.show() # Mostrar la grafica\n"
   ]
  },
  {
   "cell_type": "markdown",
   "id": "5c2a4452",
   "metadata": {},
   "source": [
    "### Respuesta\n",
    "\n",
    "Se puede observar que las gráfica es diferente con respecto a la Piaya Cayana, eso nos permite intuir que los audios serán diferentes, además de tener presente que son especies diferentes. "
   ]
  },
  {
   "cell_type": "markdown",
   "id": "0162b856",
   "metadata": {},
   "source": [
    "### 3.20 Escuche la señal de audio. ¿Qué sonidos puede percibir?"
   ]
  },
  {
   "cell_type": "code",
   "execution_count": null,
   "id": "6d3936e4",
   "metadata": {},
   "outputs": [],
   "source": [
    "file_audioM=('Myadestes_Ralloides.wav') # Ruta del archivo con la senal\n",
    "fsM, xM=read(file_audioM) # Cargar el archivo\n",
    "Audio(xM, rate=fs) # Reproductor señal de audio original"
   ]
  },
  {
   "cell_type": "markdown",
   "id": "b67547ba",
   "metadata": {},
   "source": [
    "### Respuesta\n",
    "\n",
    "Se percibe un ambiente muy campestre en el cual se logra escuchar el canto de las aves, también el sonido de las vacas, además se escucha un ruido constante que se podria interpretar como el cause de algun rio o de un caudal."
   ]
  },
  {
   "cell_type": "markdown",
   "id": "2ce5ea6c",
   "metadata": {},
   "source": [
    "### 3.21 Use la función mostrada previamente para extraer un fragmento del audio. Escuche y grafique el fragmento de la señal.  ¿Escucha el canto del ave?"
   ]
  },
  {
   "cell_type": "code",
   "execution_count": null,
   "id": "d397bff4",
   "metadata": {},
   "outputs": [],
   "source": [
    "def fragmento(audio,ti,tf,fs): \n",
    "    mi=int(ti*fs) #Muestra de inicio\n",
    "    mf=int(tf*fs) #Muestra final\n",
    "    arreglo=audio[mi:mf] #Arreglo\n",
    "    Audio(arreglo, rate=fs) # Reproductor señal de audio original\n",
    "    return arreglo\n",
    "arregloM=fragmento(xM,17.5,19.5,fsM)"
   ]
  },
  {
   "cell_type": "code",
   "execution_count": null,
   "id": "12419bb0",
   "metadata": {},
   "outputs": [],
   "source": [
    "print(\"La frecuencia de muestreo de la señal es: \",fsM)\n",
    "arregloM = arregloM / float(max(abs(arregloM)))\n",
    "arregloM = arregloM - np.mean(arregloM)\n",
    "tM = np.arange(0, len(arregloM) / fsM, 1.0 / fsM)  # Vector de tiempo\n",
    "plt.figure(figsize=(15, 9))\n",
    "plt.plot(tM, arregloM, color='black')\n",
    "plt.title(\"Fragmento Myadestes_Ralloides\", fontsize=\"20\")\n",
    "plt.xlabel(\"Tiempo (s)\", fontsize=\"14\")\n",
    "plt.ylabel(\"Amplitud\", fontsize=\"14\")\n",
    "plt.grid()\n",
    "plt.show()"
   ]
  },
  {
   "cell_type": "code",
   "execution_count": null,
   "id": "e505fe93",
   "metadata": {},
   "outputs": [],
   "source": [
    "Audio(arregloM, rate=fsM)"
   ]
  },
  {
   "cell_type": "markdown",
   "id": "b086d6f2",
   "metadata": {},
   "source": [
    "### Respuesta\n",
    "\n",
    "En el fragmento si se logra escuchar el canto del ave mas nítido, sin embargo se escucha aun el caudal y si solo queremos analizar el canto de la ave, esto sera un parametro que nos complique un poco llegar a este fin."
   ]
  },
  {
   "cell_type": "markdown",
   "id": "e3c878d2",
   "metadata": {},
   "source": [
    "### 3.22 Calcular la transformada rápida de Fourier y graficarla ¿Qué información nos brida esto?"
   ]
  },
  {
   "cell_type": "code",
   "execution_count": null,
   "id": "651f018e",
   "metadata": {},
   "outputs": [],
   "source": [
    "fft_arregloM = np.fft.fft(arregloM)\n",
    "frecuenciaM = np.fft.fftfreq(len(arregloM), 1.0 / fsM)\n",
    "\n",
    "plt.figure(figsize=(15, 10))\n",
    "plt.plot(frecuenciaM, np.abs(fft_arregloM),color='purple' )\n",
    "plt.title(\"Transformada Rápida de Fourier\", fontsize=\"20\")\n",
    "plt.xlabel(\"Frecuencia (Hz)\", fontsize=\"14\")\n",
    "plt.ylabel(\"Amplitud\", fontsize=\"14\")\n",
    "plt.grid()\n",
    "plt.show()"
   ]
  },
  {
   "cell_type": "markdown",
   "id": "09718bbb",
   "metadata": {},
   "source": [
    "### Respuesta\n",
    "\n",
    "En esta grafica se puede observar el rango de frecuencia que contiene este audio del fragmento del canto del ave, cabe resaltar que el audio lleva el sonido del caudal, por lo tanto este sonido tambien tiene su representacion en frecuencia, cada componente frecuencial lleva una amplitud determinada."
   ]
  },
  {
   "cell_type": "markdown",
   "id": "ba090089",
   "metadata": {},
   "source": [
    "### 3.23 Realice el  enventanado a la señal original para luego aplicarle la STFT. Use la función mostrada previamente y segmente su señal con un tamaño de ventana de 80ms."
   ]
  },
  {
   "cell_type": "code",
   "execution_count": null,
   "id": "b538703c",
   "metadata": {},
   "outputs": [],
   "source": [
    "def extraer_ventanas(signal, size, fs):\n",
    "    #Tamano de paso\n",
    "    step=int(0.010*fs)\n",
    "    n_seg = int((len(signal) - size) / step)\n",
    "    # extraer segmentos\n",
    "    windows = [signal[i * step : i * step + size]\n",
    "               for i in range(n_seg)]\n",
    "    # stack (cada fila es una ventana)\n",
    "    return np.vstack(windows)\n",
    "\n",
    "ventanasM= extraer_ventanas(xM,int(0.080*fsM),fsM)\n",
    "ventanasM.shape"
   ]
  },
  {
   "cell_type": "markdown",
   "id": "e9529baf",
   "metadata": {},
   "source": [
    "### 3.24 Aplicar la ventana hamming a la señal original y posteriormente grafique un segmento antes y después de aplicarle la ventana Hamming. ¿Observa alguna diferencia? Explique."
   ]
  },
  {
   "cell_type": "code",
   "execution_count": null,
   "id": "888dc919",
   "metadata": {},
   "outputs": [],
   "source": [
    "hammingM = ventanasM*np.hamming(len(ventanasM[0]))\n",
    "segmentoM = np.random.randint(0, len(ventanasM))\n",
    "plt.subplot(211)\n",
    "plt.plot(ventanas[segmentoM])\n",
    "plt.grid()\n",
    "plt.xlabel('Milisegundos')\n",
    "plt.ylabel('Amplitud')\n",
    "plt.title('Ventana sin aplicar Hamming')\n",
    "\n",
    "plt.subplot(212)\n",
    "plt.plot(hammingM[segmentoM])\n",
    "plt.grid()\n",
    "plt.xlabel('Milisegundos')\n",
    "plt.ylabel('Amplitud')\n",
    "plt.title('Ventana al aplicarle Hamming')\n",
    "\n",
    "plt.subplots_adjust(top=0.9, bottom=0.08, left=0.10, right=2, hspace=0.35 ,wspace=0.35)\n",
    "plt.show()\n",
    "print(\"Segmento enventanado:\",segmentoM)"
   ]
  },
  {
   "cell_type": "markdown",
   "id": "68110bfe",
   "metadata": {},
   "source": [
    "### Respuesta\n",
    "\n",
    "La ventana al aplicarle Hamming se atenuo en sus extremos y esta grafica puede indicar que una ventana fue puesta en esa señal, la informacion de la mitad de la grafica es la que me representa mayor informacion a cerca de la señal."
   ]
  },
  {
   "cell_type": "markdown",
   "id": "2bb48702",
   "metadata": {},
   "source": [
    "### 3.25 Usando la función dada previamente calcule la STFT a cada uno de los segmentos del ítem anterior, para esto use un tamaño de NFFT de 512."
   ]
  },
  {
   "cell_type": "code",
   "execution_count": null,
   "id": "9923fdf1",
   "metadata": {},
   "outputs": [],
   "source": [
    "def potspec(X, size, n_padded_min=0):\n",
    "    # Zero padding para la proxima potencia de 2\n",
    "    if n_padded_min==0:\n",
    "        n_padded = max(n_padded_min, int(2 ** np.ceil(np.log(size) / np.log(2))))\n",
    "    else:\n",
    "        n_padded = n_padded_min\n",
    "        # Transformada de Fourier\n",
    "        Y = np.fft.fft(X, n=n_padded)\n",
    "        Y = np.absolute(Y)\n",
    "        # non-redundant part\n",
    "        m = int(n_padded / 2) + 1\n",
    "        Y = Y[:, :m]\n",
    "        return np.abs(Y) ** 2, n_padded"
   ]
  },
  {
   "cell_type": "markdown",
   "id": "de97452d",
   "metadata": {},
   "source": [
    "### 3.26  Grafique la representación tiempo-frecuencia para esta señal"
   ]
  },
  {
   "cell_type": "code",
   "execution_count": null,
   "id": "0ce2939e",
   "metadata": {},
   "outputs": [],
   "source": [
    "espectro,nfft=potspec(hammingM,int(0.08*fs),512)\n",
    "espectro=np.flipud(10*np.log10(espectro).T)\n",
    "plt.figure(figsize=(20,10))\n",
    "plt.title('Espectrograma')\n",
    "plt.imshow(espectro,aspect='auto', extent=[0, len(x)/fs, 0, fs//2])\n",
    "plt.ylabel('Frecuencia [Hz]', fontsize=18)\n",
    "plt.xlabel('Tiempo [sec]', fontsize=18)\n",
    "plt.show()"
   ]
  },
  {
   "cell_type": "markdown",
   "id": "fafd18dc",
   "metadata": {},
   "source": [
    "### 3.27 Realice el  enventanado al fragmento de la señal para luego aplicarle la STFT. Use la función dada previamente y segmente su señal con un tamaño de ventana de 80ms."
   ]
  },
  {
   "cell_type": "code",
   "execution_count": null,
   "id": "35e31fdc",
   "metadata": {},
   "outputs": [],
   "source": [
    "def extraer_ventanas(signal, size, fs):\n",
    "    #Tamano de paso\n",
    "    step=int(0.010*fs)\n",
    "    n_seg = int((len(signal) - size) / step)\n",
    "    # extraer segmentos\n",
    "    windows = [signal[i * step : i * step + size]\n",
    "               for i in range(n_seg)]\n",
    "    # stack (cada fila es una ventana)\n",
    "    return np.vstack(windows)\n",
    "\n",
    "ventanas3= extraer_ventanas(arregloM,int(0.080*fsM),fsM)\n",
    "ventanas3.shape"
   ]
  },
  {
   "cell_type": "markdown",
   "id": "0170ae9a",
   "metadata": {},
   "source": [
    "### 3.28 Aplique la ventana hamming al fragmento de señal y posteriormente grafique un segmento antes y después de aplicarle la ventana Hamming. ¿Observa alguna diferencia? Explique."
   ]
  },
  {
   "cell_type": "code",
   "execution_count": null,
   "id": "3f6edc92",
   "metadata": {},
   "outputs": [],
   "source": [
    "hamming3 = ventanas3*np.hamming(len(ventanas3[0]))\n",
    "segmento3 = np.random.randint(0, len(ventanas3))\n",
    "plt.subplot(211)\n",
    "plt.plot(ventanas3[segmento3])\n",
    "plt.grid()\n",
    "plt.xlabel('Milisegundos')\n",
    "plt.ylabel('Amplitud')\n",
    "plt.title('Ventana sin aplicar Hamming')\n",
    "\n",
    "plt.subplot(212)\n",
    "plt.plot(hamming[segmento3])\n",
    "plt.grid()\n",
    "plt.xlabel('Milisegundos')\n",
    "plt.ylabel('Amplitud')\n",
    "plt.title('Ventana al aplicarle Hamming')\n",
    "\n",
    "plt.subplots_adjust(top=0.9, bottom=0.08, left=0.10, right=2, hspace=0.35 ,wspace=0.35)\n",
    "plt.show()\n",
    "print(\"Segmento enventanado:\",segmento3)"
   ]
  },
  {
   "cell_type": "markdown",
   "id": "3f41edd2",
   "metadata": {},
   "source": [
    "Se observa que los bordes de la ventana sin aplicar Hamming se encuentran sin atenuar, mientras que cuando se aplica Hamming se atenuan las fronteras. En cuanto a la parte central, al aplicarle Hamming se multiplica por uno, entonces deja pasar la señal de la misma forma."
   ]
  },
  {
   "cell_type": "markdown",
   "id": "945aa543",
   "metadata": {},
   "source": [
    "### 3.29 Calcule y grafique la STFT para valores de NFFT equivalentes a 64, 512 y 1024. ¿Qué diferencia encuentra al variar este tamaño? ¿A su criterio cuál es el tamaño de NFFT que tiene una mejor resolución tiempofrecuencia? Explique."
   ]
  },
  {
   "cell_type": "code",
   "execution_count": null,
   "id": "b26d6d65",
   "metadata": {},
   "outputs": [],
   "source": [
    "nfft = [64, 512, 1024]\n",
    "\n",
    "for i in nfft:\n",
    "    espectro,nfft=potspec(hamming3,int(0.08*fsM),i)\n",
    "    espectro=np.flipud(10*np.log10(espectro).T)\n",
    "    plt.figure(figsize=(20,10))\n",
    "    plt.title('Espectrograma con NFFT ='+str(i), fontsize=20)\n",
    "    plt.imshow(espectro,aspect='auto', extent=[0, len(hamming)/fs, 0, fs//2])\n",
    "    plt.ylabel('Frequency [Hz]', fontsize=18)\n",
    "    plt.xlabel('Time [sec]', fontsize=18)\n",
    "    plt.show()"
   ]
  },
  {
   "cell_type": "markdown",
   "id": "7ab2f8cd",
   "metadata": {},
   "source": [
    "### Respuesta\n",
    "A medida que se aumenta el NFFT, se pueden notar unas franjas en la frecuencia, además que se ven más definidos los trazos de amplitud, mientras que, al tener un NFFT relativamente bajo, estas franjas desaparecen, pero se diferencia más el intervalo temporal en que las frecuencias son mayores. Entre mayor número de NFFT la amplitud va a ser menor. \n",
    "Se puede observar que entre NFFT =64 y NFFT=1024 hay una gran diferencia, cabe resalta que para que se puedan observar cambios significativos no solo se tiene que aumentar el número de NFFT, sino que también se debe aumentar la frecuencia de muestreo.\n",
    "\n",
    "Considero que el tamaño de NFFT que tiene una mejor resolución tiempofrecuencia es la de NFFT=1024 debido a que los datos tienen una mejor amplitud."
   ]
  },
  {
   "cell_type": "markdown",
   "id": "51552643",
   "metadata": {},
   "source": [
    "### 3.30 Implemente un filtro FIR con las siguientes características:\n",
    "\n",
    "#### FIR Pasa-banda, fc1=2kHz, fc2=6kHz, BW=200Hz, AdB=0"
   ]
  },
  {
   "cell_type": "code",
   "execution_count": null,
   "id": "043be2a1",
   "metadata": {},
   "outputs": [],
   "source": [
    "fc1=2000.0\n",
    "fc2=6000.0\n",
    "fs # frec de muestreo\n",
    "Adb=0 # Ganancia del filtro en decibeles\n",
    "N = 512 # Numero de puntos de la FFT\n",
    "BW=200 # Ancho de banda en la banda de transicion\n",
    "\n",
    "wc1 = 2*np.pi*fc1/fs # frecuencia de corte normalizada en radianes\n",
    "wc2 = 2*np.pi*fc2/fs # frecuencia de corte normalizada en radianes\n",
    "bwn=2*np.pi*BW/fs # ancho de banda  normalizado en radianes\n",
    "\n",
    "M=int(4/bwn) # orden estimado del filtro\n",
    "print('Orden del filtro: ', M)\n",
    "\n",
    "n = np.arange(-M,M)"
   ]
  },
  {
   "cell_type": "code",
   "execution_count": null,
   "id": "6da77511",
   "metadata": {},
   "outputs": [],
   "source": [
    "# Respuesta ideal del filtro\n",
    "\n",
    "h1 =(wc2/np.pi)* np.sinc(wc2*(n)/np.pi)-(wc1/np.pi) * np.sinc(wc1*(n)/np.pi)\n",
    "h1[n==0]=(wc2-wc1)/np.pi # cuando es pasabanda. Filtro original sin enventanar\n",
    "\n",
    "win = signal.hamming(len(n)) # funcion ventana para eliminar el fenomeno de Gibbs\n",
    "h2 = h1 * win # Multiplico la respuesta ideal por la ventana Filtro enventanado. Respuedta al impulso del filtro enventanado\n",
    "\n",
    "w1,Hh1 = signal.freqz(h1,1,whole=True, worN=N) #Transformada Z\n",
    "\n",
    "A=np.sqrt(10**(0.1*Adb))\n",
    "h2=h2*A # Ganancia del filtro\n",
    "w2,Hh2 = signal.freqz(h2,1,whole=True, worN=N)"
   ]
  },
  {
   "cell_type": "markdown",
   "id": "97c9efe8",
   "metadata": {},
   "source": [
    "### 3.31 Grafique la respuesta al impulso del filtro asignado. ¿Qué puede observar?"
   ]
  },
  {
   "cell_type": "code",
   "execution_count": null,
   "id": "218ea470",
   "metadata": {},
   "outputs": [],
   "source": [
    "fig1,axs1 = subplots(4,1)\n",
    "fig1.set_size_inches((12,18))\n",
    "subplots_adjust(hspace=0.8)\n",
    "\n",
    "ax=axs1[0]\n",
    "ax.stem(n+M,h1,basefmt='b-')\n",
    "ax.set_title(\"Respuesta al impulso del FIR sin truncar\",fontsize=20)\n",
    "ax.set_xlabel(\"$n$\",fontsize=24)\n",
    "ax.set_ylabel(\"$h_1$\",fontsize=24)\n",
    "\n",
    "ax=axs1[1]\n",
    "ax.stem(n+M,h2,basefmt='b-')\n",
    "ax.set_title(\"Respuesta al impulso del FIR truncado\",fontsize=20)\n",
    "ax.set_xlabel(\"$n$\",fontsize=24)\n",
    "ax.set_ylabel(\"$h_2$\",fontsize=24)\n",
    "\n",
    "ax=axs1[2]\n",
    "ax.plot((w1-np.pi)*fs/(2*np.pi),np.abs(np.fft.fftshift(Hh1)))\n",
    "ax.axis(xmax=fs/2,xmin=-fs/2)\n",
    "ax.set_title(\"Respuesta en frecuencia FIR sin truncar\",fontsize=20)\n",
    "ax.set_xlabel(r\"$f (Hz)$\",fontsize=18)\n",
    "ax.set_ylabel(r\"$|H1(\\omega)| $\",fontsize=18)\n",
    "ax.vlines([-fc1,fc1],0,1,color='g',lw=2.,linestyle='--')\n",
    "ax.vlines([-fc2,fc2],0,1,color='g',lw=2.,linestyle='--')\n",
    "ax.hlines(1,-fc2,-fc1,color='g',lw=2.,linestyle='--')\n",
    "ax.hlines(0,-fc1,fc1,color='g',lw=2.,linestyle='--')\n",
    "ax.hlines(1,fc1,fc2,color='g',lw=2.,linestyle='--')\n",
    "\n",
    "ax=axs1[3]\n",
    "ax.plot((w2-np.pi)*fs/(2*np.pi),np.abs(np.fft.fftshift(Hh2)))\n",
    "ax.axis(xmax=fs/2,xmin=-fs/2)\n",
    "ax.set_title(\"Respuesta en frecuencia FIR truncado\",fontsize=20)\n",
    "ax.set_xlabel(r\"$f (Hz)$\",fontsize=18)\n",
    "ax.set_ylabel(r\"$|H2(\\omega)| $\",fontsize=18)\n",
    "ax.vlines([-fc1,fc1],0,1,color='g',lw=2.,linestyle='--')\n",
    "ax.vlines([-fc2,fc2],0,1,color='g',lw=2.,linestyle='--')\n",
    "ax.hlines(1,-fc2,-fc1,color='g',lw=2.,linestyle='--')\n",
    "ax.hlines(0,-fc1,fc1,color='g',lw=2.,linestyle='--')\n",
    "ax.hlines(1,fc1,fc2,color='g',lw=2.,linestyle='--')"
   ]
  },
  {
   "cell_type": "markdown",
   "id": "71fff78b",
   "metadata": {},
   "source": [
    "### Respuesta\n",
    "\n",
    "Cuando el filtro esta sin truncar se espera que en el tiempo la respuesta sea una señal sin sobre su argumento, esto se puede observar en la primera grafica, además en los extremos oscilaciones hay oscilaciones.\n",
    "\n",
    "Cuando el filtro esta truncando en el tiempo, es porque se multiplico por la ventana,en este caso Hamming, por lo tanto, se atenuaron los extremos y la informacion relevante quedo en la mitad de la grafica.\n",
    "\n",
    "Para la respuesta en frecuencia del filtro sin truncar, se observa que quedan oscilaciones en la grafica, esto se debe a que no se pueden representar esas caidas en linea recta tan fielmente, sin embargo el ancho de banda de transcion es mejor.\n",
    "\n",
    "Para la respuesta en frecuencia del filtro truncado, se observa que las oscilaciones se eliminaron pero el ancho de banda de transicion quedo un poco permisivo, esto son caracteristicas que el diseñador de filtros debe tener en cuenta al realizar un analisis para un diseño de un filtro en especifico."
   ]
  },
  {
   "cell_type": "markdown",
   "id": "8b43104a",
   "metadata": {},
   "source": [
    "### 3.32 Pase la señal de audio por el filtro diseñado, y escúchela. ¿Encuentra alguna diferencia respecto al audio no filtrado?"
   ]
  },
  {
   "cell_type": "code",
   "execution_count": null,
   "id": "f73bfd65",
   "metadata": {},
   "outputs": [],
   "source": [
    "y = signal.lfilter(h2, 1, arregloM) #convolucinar h2 con cualquier señal, en este caso con arreglo que debe tener la misma frec de frecuencia\n",
    "Audio(y, rate=fs)"
   ]
  },
  {
   "cell_type": "markdown",
   "id": "a6fde912",
   "metadata": {},
   "source": [
    "### Respuesta\n",
    "\n",
    "El audio perdio volumen, al ser filtrado, sin embargo se logra percibir mejor el canto del ave, que era lo que nos interesaba, ademas se atenuo tambien caudal que se escuchaba y permitió que las frecuencias del canto de las aves quedaran mas perceptibles."
   ]
  },
  {
   "cell_type": "markdown",
   "id": "d4f248b8",
   "metadata": {},
   "source": [
    "### 3.33 ¿Puede observar las diferencias entre los espectrogramas de las dos especies? ¿Considera que el espectrograma es una herramienta útil en estos casos? ¿Por qué?"
   ]
  },
  {
   "cell_type": "markdown",
   "id": "8ed962af",
   "metadata": {},
   "source": [
    "### Respuesta\n",
    "Si se pueden observar las diferencias entre los espectogramas, ya que cada uno de estos tiene una forma acustica diferente. Si considero que el espectograma es una herramienta útil porque a partir de esto se puede identificar cada especie cuando su forma es representativa."
   ]
  },
  {
   "cell_type": "markdown",
   "id": "c133e1b3",
   "metadata": {},
   "source": [
    "## 4. Filtro personalizado a un sonido preexistente"
   ]
  },
  {
   "cell_type": "markdown",
   "id": "ae34f25b",
   "metadata": {},
   "source": [
    "Conociendo la estructura de un sistema LTI como se muestra en la siguiente figura:"
   ]
  },
  {
   "cell_type": "markdown",
   "id": "46ada306",
   "metadata": {},
   "source": [
    " # <img align=\"center\" style=\"width: 400px;\" src=\"LTI.jpeg\\\">"
   ]
  },
  {
   "cell_type": "markdown",
   "id": "2464b518",
   "metadata": {},
   "source": [
    "Donde para cada x(t) existe un y(t) y aplicandola a los conceptos de señales digitales discretas vistos en clase, se sabe que para todo sistema se puede representar un h(t) tal que y(t)=h(t)*x(t). \n",
    "Adaptando dicho teoria a las señales se podría deducir que se tiene un h(n) tal qué y(n)=h(n)*x(n) además se sabe que en el continuo h(t) es la respuesta natural del sistema o mejor conocida como la respuesta al impulso unitario.\n",
    "Respecto a los filtros digitales sabemos qué son secuencias que causan alteraciones a las señales asi que los filtros digitales son por definición sistemas o mejor dicho un filtro digital es lo mismo que una respuesta al impulso."
   ]
  },
  {
   "cell_type": "markdown",
   "id": "f191aeba",
   "metadata": {},
   "source": [
    "Se quiere experimentar y obtener un filtro que modifique ciertas caracteristicas del audio para que se escuche como si estuviera en cierto ambiente para que no se tenga que desplazar al lugar donde se tomó ese audio para experimentar allá."
   ]
  },
  {
   "cell_type": "markdown",
   "id": "2467beeb",
   "metadata": {},
   "source": [
    "### 4.1 Utilice la función \"audio_threatment\" para cargar un archivo de audio, verificar las dimensiones de la señal de audio, promediar los canales si hay múltiples canales y devolver la frecuencia de muestreo y la señal de audio resultante."
   ]
  },
  {
   "cell_type": "code",
   "execution_count": null,
   "id": "f8903f1e",
   "metadata": {},
   "outputs": [],
   "source": [
    "def audio_threatment(Afile):\n",
    "    fs, shot=read(Afile) # Cargar el archivo\n",
    "    tam = np.shape(shot) # Almacena el vector con el numero de canales del sonido\n",
    "    if len(tam)==2:\n",
    "        print('Numero de canales: ',len(tam))# numero de canales\n",
    "        x5= (shot[:,0])/len(tam) # Junta los canales del audio en uno\n",
    "    else:\n",
    "        x5=shot\n",
    "    print('La frecuencia de muestreo es: ',fs,' Hz')\n",
    "    return fs,x5"
   ]
  },
  {
   "cell_type": "markdown",
   "id": "5cef9b30",
   "metadata": {},
   "source": [
    "### 4.2 Utilice la función \"normalize_audio\" para normalizar la amplitud de una señal de audio, eliminar el nivel DC y crear un vector de tiempo asociado a cada muestra de la señal."
   ]
  },
  {
   "cell_type": "code",
   "execution_count": null,
   "id": "0f3a8332",
   "metadata": {},
   "outputs": [],
   "source": [
    "def normalize_audio(fs,x):\n",
    "    x=x/float(max(abs(x)))# Normaliza la amplitud de la señal\n",
    "    x=x-np.mean(x) # Elimina el nivel DC\n",
    "    t=np.arange(0, len(x)/fs, 1.0/fs) # Vector de tiempo\n",
    "    return t,x"
   ]
  },
  {
   "cell_type": "markdown",
   "id": "c39f6c93",
   "metadata": {},
   "source": [
    "### 4.3 Cargue la señal de audio de \"PoliceSiren.wav\", normalicela y escuchela."
   ]
  },
  {
   "cell_type": "code",
   "execution_count": null,
   "id": "f7d75f9d",
   "metadata": {},
   "outputs": [],
   "source": [
    "file2_audio=('PoliceSiren.wav') # Ruta del archivo con la senal\n",
    "fs, hola=audio_threatment(file2_audio) # Cargar el archivo\n",
    "taud5,hola=normalize_audio(fs,hola) # Normalizar\n",
    "t55=np.arange(0, len(hola)/fs, 1.0/fs) # Vector de tiempo\n",
    "plt.figure(figsize = (15,9)) # Tamaño de la figura\n",
    "plt.plot(t55,hola) \n",
    "plt.title(\"Sirena\", fontsize=\"20\")\n",
    "plt.xlabel(\"Tiempo (s)\", fontsize=\"14\")\n",
    "plt.ylabel(\"Amplitud\", fontsize=\"14\")\n",
    "plt.grid()\n",
    "plt.show() # Mostrar la grafica\n",
    "Audio(hola, rate=fs) \n"
   ]
  },
  {
   "cell_type": "markdown",
   "id": "f9f60475",
   "metadata": {},
   "source": [
    "### 4.4 Cargue la señal de audio de \"Thunder.wav\", normalicela y escuchela."
   ]
  },
  {
   "cell_type": "code",
   "execution_count": null,
   "id": "f923f992",
   "metadata": {},
   "outputs": [],
   "source": [
    "file_audio3=('Thunder.wav') # Ruta del archivo con la senal\n",
    "fs5,x5=audio_threatment(file_audio3)\n",
    "t5,x5=normalize_audio(fs5,x5)\n",
    "#x5=fragmento(x5,1.3,3,fs5)\n",
    "t5=np.arange(0, len(x5)/fs5, 1.0/fs5) # Vector de tiempo\n",
    "plt.figure(figsize = (15,9)) # Tamaño de la figura\n",
    "plt.plot(t5,x5) \n",
    "plt.title(\"Thunder\", fontsize=\"20\")\n",
    "plt.xlabel(\"Tiempo (s)\", fontsize=\"14\")\n",
    "plt.ylabel(\"Amplitud\", fontsize=\"14\")\n",
    "plt.grid()\n",
    "plt.show() # Mostrar la grafica\n",
    "print(fs5)\n",
    "\n",
    "Audio(x5,rate=fs5)"
   ]
  },
  {
   "cell_type": "markdown",
   "id": "9aadbc25",
   "metadata": {},
   "source": [
    "### 4.5 Realice la convolución entre el trueno y la sirena. ¿Puede escuchar alguna diferencia? ¿Cuál? ¿Considera que es un filtro personalizado?"
   ]
  },
  {
   "cell_type": "code",
   "execution_count": null,
   "id": "a1b9bb51",
   "metadata": {},
   "outputs": [],
   "source": [
    "convol=np.convolve(x5,hola,mode='full')\n",
    "tS,convol=normalize_audio(fs5,convol)\n",
    "Audio(convol, rate=fs5) "
   ]
  },
  {
   "cell_type": "code",
   "execution_count": null,
   "id": "1ed43397",
   "metadata": {},
   "outputs": [],
   "source": [
    "# Guardar audio como archivo WAV\n",
    "write('ambulancia_convol.wav', fs5, convol)"
   ]
  },
  {
   "cell_type": "code",
   "execution_count": null,
   "id": "74989a14",
   "metadata": {},
   "outputs": [],
   "source": [
    "sr,audio=read('ambulancia_convol.wav')\n",
    "tr,audio=normalize_audio(sr,audio)\n",
    "plt.figure(figsize = (15,9)) # Tamaño de la figura\n",
    "plt.plot(tr,audio, color='purple') \n",
    "plt.title(\"Convolución entre trueno y sirena\", fontsize=\"20\")\n",
    "plt.xlabel(\"Tiempo (s)\", fontsize=\"14\")\n",
    "plt.ylabel(\"Amplitud\", fontsize=\"14\")\n",
    "plt.grid()\n",
    "plt.show() # Mostrar la grafica\n",
    "Audio(audio,rate=sr)"
   ]
  },
  {
   "cell_type": "markdown",
   "id": "cd16f1aa",
   "metadata": {},
   "source": [
    "Si, se puede notar alguna diferencia, se percibe que la sirena está sometida a una especie de eco. Es un filtro personalizado que asemeja las caracteristicas del ambiente donde se experimenta por primera vez, en este caso en donde se escuche el rayo, la ambulancia es una señal cualquiera dentro de ese ambiente."
   ]
  },
  {
   "cell_type": "markdown",
   "id": "219fff01",
   "metadata": {},
   "source": [
    "### 4.6 La convolución entre dos señales es un filtro? Si o no ¿Por qué?"
   ]
  },
  {
   "cell_type": "markdown",
   "id": "e16dccbe",
   "metadata": {},
   "source": [
    "Si. La convolución entre dos señales puede considerarse como un tipo de filtro porque la convolución es una operación matemática que combina dos señales para obtener una tercera señal, que representa la respuesta del sistema resultante.\n",
    "\n",
    "En el caso de la convolución entre dos señales, una de ellas suele ser la señal de entrada y la otra es el filtro. El resultado de la convolución es una nueva señal que representa la salida del sistema filtrado.\n",
    "\n",
    "Al aplicar la convolución entre una señal de entrada y un filtro, se realiza una operación de multiplicación y suma ponderada entre las muestras de la señal y los coeficientes del filtro. Esto permite resaltar o atenuar ciertas frecuencias o características de la señal de entrada, lo que se traduce en la alteración o filtrado de la señal original.\n"
   ]
  },
  {
   "cell_type": "markdown",
   "id": "ce8d65c7",
   "metadata": {},
   "source": [
    "## Conclusiones: \n",
    "Realice conclusiones generales sobre la práctica. Recuerde que las conclusiones son importantes ya que permiten mostrar el conocimiento adquirido.\n",
    "\n"
   ]
  },
  {
   "cell_type": "markdown",
   "id": "da1908f5",
   "metadata": {},
   "source": [
    "- El pre-procesamiento es de vital importancia porque a traves de tecnicas de limpieza de la señal se puede mejorar la detección de los cantos.\n",
    "\n",
    "- A partir de la representación en tiempo-frecuencia se pueden hacer los analisis y automatizar procesos que solo con el sonido no se podría, además se ahorra mucho tiempo viendo los espectogramas a comparación de escuchar muchos audios. \n",
    "\n",
    "- Los espectogramas permiten ver la forma de la onda acústica y a partir de esto se puede identificar cada especie cuando su forma es representativa.\n",
    "\n",
    "- A medida que se aumenta el NFFT, se pueden notar unas franjas en la frecuencia, además que se ven más definidos los trazos de amplitud, mientras que, al tener un NFFT relativamente bajo, estas franjas desaparecen, pero se diferencia más el intervalo temporal en que las frecuencias son mayores. Entre mayor número de NFFT la amplitud va a ser menor.\n",
    "\n",
    "- Los filtros nos permiten eliminar ruido y los datos de frecuencias que no nos aportan información, para tener solo los datos de nuestro interés, suavizar la respuesta en frecuencia mejorando la calidad de nuestra señal.\n",
    "\n",
    "- Diseñar un filtro implica conocer muy bien el fenómeno que se desea filtrar con el proposito de optimizar los recursos para no sobredimensionar o infradimensionar las necesidades\n",
    "\n",
    "- Los filtros FIR dependen del rizado deseado, el orden y el ancho de banda de transición para realizar sus funciones aunque variar alguno de estos parametros implica mejorar o empeorar el tiempo de computación necesario.\n",
    "\n",
    "- La convolución entre dos señales puede considerarse como un tipo de filtro porque la convolución es una operación matemática que combina dos señales para obtener una tercera señal, que representa la respuesta del sistema resultante.\n",
    " "
   ]
  }
 ],
 "metadata": {
  "kernelspec": {
   "display_name": "Python 3 (ipykernel)",
   "language": "python",
   "name": "python3"
  },
  "language_info": {
   "codemirror_mode": {
    "name": "ipython",
    "version": 3
   },
   "file_extension": ".py",
   "mimetype": "text/x-python",
   "name": "python",
   "nbconvert_exporter": "python",
   "pygments_lexer": "ipython3",
   "version": "3.9.13"
  }
 },
 "nbformat": 4,
 "nbformat_minor": 5
}
